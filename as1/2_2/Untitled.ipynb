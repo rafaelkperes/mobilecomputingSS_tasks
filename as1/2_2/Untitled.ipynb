{
 "cells": [
  {
   "cell_type": "code",
   "execution_count": 19,
   "metadata": {
    "collapsed": false
   },
   "outputs": [],
   "source": [
    "import time\n",
    "import numpy as np\n",
    "\n",
    "import chipping as chip\n",
    "from chipping import charsize, chipsize, id1, id2, chipping, boundaries, factor, sleeptime\n",
    "\n",
    "def s1stub(sending):\n",
    "    ret = []\n",
    "    for c in sending:\n",
    "        asc = chip.startingcode(chip.strtobin(c))\n",
    "        chsending = chip.code(asc, chipping, id1) \n",
    "        for b in chsending:\n",
    "            #print \"Sender 1: \" + str(b)\n",
    "            #yield b\n",
    "            ret.append(b)\n",
    "    ret.reverse()\n",
    "    return ret"
   ]
  },
  {
   "cell_type": "code",
   "execution_count": 20,
   "metadata": {
    "collapsed": false
   },
   "outputs": [
    {
     "name": "stdout",
     "output_type": "stream",
     "text": [
      "-1\n"
     ]
    }
   ],
   "source": [
    "ret = s1stub(\"hello\")\n",
    "print ret.pop()"
   ]
  },
  {
   "cell_type": "code",
   "execution_count": null,
   "metadata": {
    "collapsed": true
   },
   "outputs": [],
   "source": []
  }
 ],
 "metadata": {
  "kernelspec": {
   "display_name": "Python 2",
   "language": "python",
   "name": "python2"
  },
  "language_info": {
   "codemirror_mode": {
    "name": "ipython",
    "version": 2
   },
   "file_extension": ".py",
   "mimetype": "text/x-python",
   "name": "python",
   "nbconvert_exporter": "python",
   "pygments_lexer": "ipython2",
   "version": "2.7.11"
  }
 },
 "nbformat": 4,
 "nbformat_minor": 0
}
